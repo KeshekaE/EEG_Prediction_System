{
  "nbformat": 4,
  "nbformat_minor": 0,
  "metadata": {
    "colab": {
      "name": "EEG.ipynb",
      "provenance": [],
      "collapsed_sections": [],
      "include_colab_link": true
    },
    "kernelspec": {
      "name": "python3",
      "display_name": "Python 3"
    },
    "language_info": {
      "name": "python"
    }
  },
  "cells": [
    {
      "cell_type": "markdown",
      "metadata": {
        "id": "view-in-github",
        "colab_type": "text"
      },
      "source": [
        "<a href=\"https://colab.research.google.com/github/KeshekaE/EEG_Prediction_System/blob/main/EEG.ipynb\" target=\"_parent\"><img src=\"https://colab.research.google.com/assets/colab-badge.svg\" alt=\"Open In Colab\"/></a>"
      ]
    },
    {
      "cell_type": "code",
      "execution_count": null,
      "metadata": {
        "id": "rB3phAF5ur2l"
      },
      "outputs": [],
      "source": [
        "import torch\n",
        "import numpy as np\n",
        "import pandas as pd\n",
        "from torch import nn, optim\n",
        "from tqdm import tqdm, trange\n",
        "from torch.nn import functional as F\n",
        "from sklearn.model_selection import train_test_split"
      ]
    },
    {
      "cell_type": "code",
      "source": [
        "class Net(nn.Module):\n",
        "  def __init__(self):\n",
        "    super().__init__()\n",
        "    self.l1 = nn.Linear(9, 128)\n",
        "    self.l2 = nn.Linear(128, 1)\n",
        "  \n",
        "  def forward(self, x):\n",
        "    x = F.relu(self.l1(x))\n",
        "    return torch.sigmoid(self.l2(x))"
      ],
      "metadata": {
        "id": "one5yc35u9LE"
      },
      "execution_count": null,
      "outputs": []
    },
    {
      "cell_type": "code",
      "source": [
        "data = pd.read_csv('/EEGdata.csv', header=None)\n",
        "x_train, x_test, y_train, y_test = train_test_split(\n",
        "    data.iloc[:, :-1].to_numpy(),\n",
        "    data.iloc[:, -1].map({'normal': 0, 'abnormal': 1}).to_numpy(),\n",
        "    shuffle=True\n",
        "  )\n",
        "\n",
        "net = Net()\n",
        "criterion = nn.MSELoss()\n",
        "opt = optim.Adam(net.parameters(), lr=0.0001)"
      ],
      "metadata": {
        "id": "6TU75vwUw__5"
      },
      "execution_count": null,
      "outputs": []
    },
    {
      "cell_type": "code",
      "source": [
        "for epoch in range(1):\n",
        "  train_bar = tqdm(range(len(x_train)), position=0)\n",
        "  for _ in train_bar:\n",
        "    idxs = np.random.choice(range(len(x_train)), 64)\n",
        "    x, y = torch.tensor(x_train[idxs], dtype=torch.float32), torch.tensor(y_train[idxs])\n",
        "\n",
        "\n",
        "    y_hat = net(x)\n",
        "    loss = criterion(y_hat.squeeze(dim=1), y.float())\n",
        "\n",
        "    train_bar.set_description(f\"loss = {loss.detach():0.4f}\")\n",
        "    opt.zero_grad()\n",
        "    loss.backward()\n",
        "    opt.step()"
      ],
      "metadata": {
        "id": "Fafs1uz4Xc_j"
      },
      "execution_count": null,
      "outputs": []
    },
    {
      "cell_type": "code",
      "source": [
        "# idx = 129\n",
        "idx = 524\n",
        "\n",
        "print(y_test[idx])\n",
        "if y_test[idx] == 1:\n",
        "    print(\"abnormal\")\n",
        "else:\n",
        "    print(\"normal\")\n",
        "torch.bincount(net(torch.tensor(x_test, dtype=torch.float32)).long().squeeze(dim=1))"
      ],
      "metadata": {
        "colab": {
          "base_uri": "https://localhost:8080/"
        },
        "id": "mD7FoM2utopg",
        "outputId": "97dade28-50ad-4fbd-888a-5f91fd8e169b"
      },
      "execution_count": null,
      "outputs": [
        {
          "output_type": "stream",
          "name": "stdout",
          "text": [
            "1\n",
            "abnormal\n"
          ]
        },
        {
          "output_type": "execute_result",
          "data": {
            "text/plain": [
              "tensor([    0, 10000])"
            ]
          },
          "metadata": {},
          "execution_count": 18
        }
      ]
    }
  ]
}